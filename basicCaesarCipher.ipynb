{
 "cells": [
  {
   "cell_type": "code",
   "execution_count": 1,
   "id": "d5e1ed3c-b6f7-4215-afd6-9d5fe2c50eb5",
   "metadata": {},
   "outputs": [
    {
     "name": "stdin",
     "output_type": "stream",
     "text": [
      "Enter the text you want to encrypt:  fiiaifnadjnvaijngnsdv\n",
      "Enter the shift value:  34\n"
     ]
    },
    {
     "name": "stdout",
     "output_type": "stream",
     "text": [
      "Encrypted text: nqqiqnvilrvdiqrvovald\n"
     ]
    }
   ],
   "source": [
    "import string\n",
    "\n",
    "# Prompt the user to enter the text they want to encrypt\n",
    "text = input(\"Enter the text you want to encrypt: \")\n",
    "\n",
    "# Prompt the user to enter the shift value\n",
    "shift = int(input(\"Enter the shift value: \"))\n",
    "\n",
    "# Ensure the shift value is within the range of 0-25\n",
    "shift = shift % 26\n",
    "\n",
    "# Define the lowercase alphabet\n",
    "alphabet = string.ascii_lowercase\n",
    "\n",
    "# Create the shifted alphabet using the provided shift value\n",
    "shifted = alphabet[shift:] + alphabet[:shift]\n",
    "\n",
    "# Create a translation table\n",
    "table = str.maketrans(alphabet, shifted)\n",
    "\n",
    "# Encrypt the input text using the translation table\n",
    "encrypted = text.translate(table)\n",
    "\n",
    "# Print the encrypted text\n",
    "print(\"Encrypted text:\", encrypted)\n",
    "\n"
   ]
  },
  {
   "cell_type": "code",
   "execution_count": null,
   "id": "a4a028f8-e3b7-4efe-9d84-2d5faa15beb2",
   "metadata": {},
   "outputs": [],
   "source": []
  }
 ],
 "metadata": {
  "kernelspec": {
   "display_name": "Python 3 (ipykernel)",
   "language": "python",
   "name": "python3"
  },
  "language_info": {
   "codemirror_mode": {
    "name": "ipython",
    "version": 3
   },
   "file_extension": ".py",
   "mimetype": "text/x-python",
   "name": "python",
   "nbconvert_exporter": "python",
   "pygments_lexer": "ipython3",
   "version": "3.11.7"
  }
 },
 "nbformat": 4,
 "nbformat_minor": 5
}
